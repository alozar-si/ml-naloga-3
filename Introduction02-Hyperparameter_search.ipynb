{
 "cells": [
  {
   "cell_type": "code",
   "execution_count": 1,
   "metadata": {},
   "outputs": [],
   "source": [
    "import numpy as np\n",
    "import matplotlib.pyplot as plt\n",
    "\n",
    "from tensorflow.keras import Sequential\n",
    "from tensorflow.keras.layers import Dense\n",
    "from tensorflow.keras import initializers\n",
    "import os\n",
    "\n",
    "from DataGeneration import GenerateData"
   ]
  },
  {
   "cell_type": "code",
   "execution_count": 2,
   "metadata": {},
   "outputs": [],
   "source": [
    "directory = os.getcwd()\n",
    "\n",
    "X = np.load(directory + \"/PodatkiK/intenziteta700noise0.npy\")\n",
    "Y = np.load(directory + \"/PodatkiK/C_values.npy\") / (300 * 1e-10)"
   ]
  },
  {
   "cell_type": "code",
   "execution_count": 8,
   "metadata": {},
   "outputs": [],
   "source": [
    "#Ustvarimo funkcijo, ki vrača kompajlan model\n",
    "def create_model(activation='sigmoid', optimizer='adam'):\n",
    "    model = Sequential()\n",
    "    model.add(Dense(units=400, \n",
    "                    activation=activation, \n",
    "                    input_shape=(400,), \n",
    "                    kernel_initializer=initializers.RandomNormal(stddev=0.01)))\n",
    "    model.add(Dense(200, activation=activation))\n",
    "    model.add(Dense(100, activation=activation))\n",
    "    model.add(Dense(1, activation=activation))\n",
    "    model.compile(optimizer=optimizer, loss='mean_absolute_error', metrics=['mean_squared_error'])\n",
    "    return model"
   ]
  },
  {
   "cell_type": "code",
   "execution_count": 4,
   "metadata": {},
   "outputs": [],
   "source": [
    "from sklearn.model_selection import KFold"
   ]
  },
  {
   "cell_type": "code",
   "execution_count": 10,
   "metadata": {},
   "outputs": [],
   "source": [
    "# Compute moving average\n",
    "def moving_average(a, n=3) :\n",
    "    \n",
    "    idx = np.cumsum(np.arange(len(a)),dtype=float)\n",
    "    idx[n:] = idx[n:] - idx[:-n]\n",
    "    \n",
    "    res = np.cumsum(a, dtype=float)\n",
    "    res[n:] = res[n:] - res[:-n]\n",
    "    \n",
    "    return idx[n - 1:] / n, res[n - 1:] / n"
   ]
  },
  {
   "cell_type": "code",
   "execution_count": 11,
   "metadata": {},
   "outputs": [
    {
     "name": "stdout",
     "output_type": "stream",
     "text": [
      "Score per fold 1: ['loss', 'mean_squared_error'] of [0.08639360964298248, 0.03196880221366882]\n",
      "Score per fold 2: ['loss', 'mean_squared_error'] of [0.08762812614440918, 0.0288811344653368]\n",
      "Score per fold 3: ['loss', 'mean_squared_error'] of [0.09416124224662781, 0.03319723531603813]\n"
     ]
    }
   ],
   "source": [
    "num_folds = 3 # dolocimo st. foldov\n",
    "kf = KFold(n_splits=num_folds, shuffle=True) # razred za razdelitev podatkov\n",
    "\n",
    "fold_no = 1\n",
    "scores_per_fold = []\n",
    "verbose=0\n",
    "losses = []\n",
    "for train, test in kf.split(X[:10000], Y[:10000]): #zanka cez vse usne ter testne sete\n",
    "    modelCV = create_model()\n",
    "    history = modelCV.fit(X[train], Y[train], epochs=100, batch_size=100, verbose=verbose)\n",
    "    \n",
    "    # na fitanem modelu izvrednotimo mere uspesnosti\n",
    "    # mere uspesnosti bi lahko spremljali ze tekom ucenja, znotraj metode fit\n",
    "    scores = modelCV.evaluate(X[test], Y[test], verbose=verbose)\n",
    "    print(f'Score per fold {fold_no}: {modelCV.metrics_names} of {scores}')\n",
    "    scores_per_fold.append(scores)\n",
    "    \n",
    "    losses.append(moving_average(history.history['loss'], 40))\n",
    "    fold_no += 1\n"
   ]
  },
  {
   "cell_type": "code",
   "execution_count": 21,
   "metadata": {},
   "outputs": [
    {
     "data": {
      "image/png": "[encoded data removed]",
      "text/plain": [
       "<Figure size 540x324 with 1 Axes>"
      ]
     },
     "metadata": {
      "needs_background": "light"
     },
     "output_type": "display_data"
    }
   ],
   "source": [
    "plt.figure(figsize=(7.5, 4.5))\n",
    "colors=['k','r','b']\n",
    "for i in range(3):\n",
    "    plt.plot(losses[i][0], losses[i][1], c=colors[i])\n",
    "\n",
    "plt.xlabel('epoch')\n",
    "plt.ylabel('Loss')\n",
    "plt.tight_layout()\n",
    "#plt.ylim([0, 0.005])\n",
    "plt.yscale('log')\n",
    "plt.show()\n",
    "    "
   ]
  },
  {
   "cell_type": "code",
   "execution_count": 22,
   "metadata": {},
   "outputs": [],
   "source": [
    "from sklearn.model_selection import GridSearchCV\n",
    "from tensorflow.keras.wrappers.scikit_learn import KerasRegressor # Wrapper za Keras model v sklearn\n",
    "\n",
    "modelGS = KerasRegressor(build_fn=create_model, verbose=0, activation='relu') #ustvarimo model\n",
    "#veljavni argumenti so argumenti funkcije create_model ter metode fit za Keras model\n",
    "\n",
    "# najprej dolocimo optimalen batch_size ter stevilo epoh\n",
    "# uspesnot modela ovrednotimo na vseh kombinacijah parametrov\n",
    "batch_size = [50, 100] # vrednosti, ki jih preverimo\n",
    "epochs = [50, 100]\n",
    "\n",
    "# ustvarimo slovar kjer so kljuci imena parametrov\n",
    "param_grid = dict(batch_size=batch_size, epochs=epochs)\n",
    "\n",
    "#ustvarimo objekt z iskanje na mrezi\n",
    "# specificiramo katero mero uspesnosti gledamo, default je loss funkcija\n",
    "grid = GridSearchCV(estimator=modelGS, param_grid=param_grid, n_jobs=-1, cv=3, scoring='neg_mean_squared_error')\n",
    "\n"
   ]
  },
  {
   "cell_type": "code",
   "execution_count": 23,
   "metadata": {},
   "outputs": [
    {
     "data": {
      "text/plain": [
       "GridSearchCV(cv=3, error_score='raise-deprecating',\n",
       "             estimator=<tensorflow.python.keras.wrappers.scikit_learn.KerasRegressor object at 0x0000020E4E802888>,\n",
       "             iid='warn', n_jobs=-1,\n",
       "             param_grid={'batch_size': [50, 100], 'epochs': [50, 100]},\n",
       "             pre_dispatch='2*n_jobs', refit=True, return_train_score=False,\n",
       "             scoring='neg_mean_squared_error', verbose=0)"
      ]
     },
     "execution_count": 23,
     "metadata": {},
     "output_type": "execute_result"
    }
   ],
   "source": [
    "grid.fit(X[:10000], Y[:10000])"
   ]
  },
  {
   "cell_type": "code",
   "execution_count": 24,
   "metadata": {},
   "outputs": [
    {
     "name": "stdout",
     "output_type": "stream",
     "text": [
      "Best: -0.012135 using {'batch_size': 50, 'epochs': 100}\n"
     ]
    }
   ],
   "source": [
    "print(\"Best: %f using %s\" %(grid.best_score_, grid.best_params_))\n",
    "# pogledamo se rezultate v ostalih tockah\n",
    "means = grid.cv_results_['mean_test_score']\n",
    "stds = grid.cv_results_['std_test_score']\n",
    "params = grid.cv_results_['params']\n",
    "for mean, stdev, param in zip(means, stds, params):\n",
    "    print('%f (%f) with : %r' %(mean, stdev, param))"
   ]
  },
  {
   "cell_type": "code",
   "execution_count": 29,
   "metadata": {},
   "outputs": [],
   "source": [
    "# Primer ko iscemo optimalen optimizator in aktivacijsko funkcijo\n",
    "# uporabimo optimalen batch size in st. epoh\n",
    "modelGS2 = KerasRegressor(build_fn=create_model, epochs=100, batch_size=50, verbose=0)\n",
    "#\n",
    "activation=['linear', 'relu', 'sigmoid']\n",
    "optimizer=['SGD', 'RMSprop', 'Adam']\n",
    "\n",
    "param_grid = dict(activation=activation, optimizer=optimizer)\n",
    "\n",
    "#ustvarimo objekt z iskanje na mrezi\n",
    "# specificiramo katero mero uspesnosti gledamo, default je loss funkcija\n",
    "grid = GridSearchCV(estimator=modelGS2, param_grid=param_grid, n_jobs=-1, cv=3)\n"
   ]
  },
  {
   "cell_type": "code",
   "execution_count": 30,
   "metadata": {},
   "outputs": [],
   "source": [
    "grid_result = grid.fit(X[:10000], Y[:10000])"
   ]
  },
  {
   "cell_type": "code",
   "execution_count": 31,
   "metadata": {},
   "outputs": [
    {
     "name": "stdout",
     "output_type": "stream",
     "text": [
      "Best: -0.072533 using {'activation': 'sigmoid', 'optimizer': 'Adam'}\n",
      "-0.179049 (0.004195) with : {'activation': 'linear', 'optimizer': 'SGD'}\n",
      "-0.180228 (0.000791) with : {'activation': 'linear', 'optimizer': 'RMSprop'}\n",
      "-0.182313 (0.004303) with : {'activation': 'linear', 'optimizer': 'Adam'}\n",
      "-0.087251 (0.009198) with : {'activation': 'relu', 'optimizer': 'SGD'}\n",
      "-0.217051 (0.198222) with : {'activation': 'relu', 'optimizer': 'RMSprop'}\n",
      "-0.205938 (0.206071) with : {'activation': 'relu', 'optimizer': 'Adam'}\n",
      "-0.179164 (0.001185) with : {'activation': 'sigmoid', 'optimizer': 'SGD'}\n",
      "-0.072932 (0.006052) with : {'activation': 'sigmoid', 'optimizer': 'RMSprop'}\n",
      "-0.072533 (0.010631) with : {'activation': 'sigmoid', 'optimizer': 'Adam'}\n"
     ]
    }
   ],
   "source": [
    "print(\"Best: %f using %s\" %(grid.best_score_, grid.best_params_))\n",
    "# pogledamo se rezultate v ostalih tockah\n",
    "means = grid.cv_results_['mean_test_score']\n",
    "stds = grid.cv_results_['std_test_score']\n",
    "params = grid.cv_results_['params']\n",
    "for mean, stdev, param in zip(means, stds, params):\n",
    "    print('%f (%f) with : %r' %(mean, stdev, param))"
   ]
  },
  {
   "cell_type": "code",
   "execution_count": null,
   "metadata": {},
   "outputs": [],
   "source": []
  }
 ],
 "metadata": {
  "kernelspec": {
   "display_name": "Python 3",
   "language": "python",
   "name": "python3"
  },
  "language_info": {
   "codemirror_mode": {
    "name": "ipython",
    "version": 3
   },
   "file_extension": ".py",
   "mimetype": "text/x-python",
   "name": "python",
   "nbconvert_exporter": "python",
   "pygments_lexer": "ipython3",
   "version": "3.7.4"
  }
 },
 "nbformat": 4,
 "nbformat_minor": 2
}
